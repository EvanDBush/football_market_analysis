{
 "cells": [
  {
   "cell_type": "markdown",
   "id": "53fb4178",
   "metadata": {},
   "source": [
    "Player Valuations Table\n",
    "\n",
    "Summary:\n",
    "\n",
    "This table contains 496,606 row of player valuationstracking a player, the date of valuation and current club and league."
   ]
  },
  {
   "cell_type": "markdown",
   "id": "41835b55",
   "metadata": {},
   "source": [
    "Insights:\n",
    "\n",
    "I am unsure if current club id excludes retired players."
   ]
  },
  {
   "cell_type": "markdown",
   "id": "4a63e472",
   "metadata": {},
   "source": [
    "Cleaning Tasks:\n",
    "\n",
    "change date dtype to datetime\n",
    "This table has no nulls or duplicates"
   ]
  },
  {
   "cell_type": "code",
   "execution_count": 2,
   "id": "62a0e297",
   "metadata": {},
   "outputs": [
    {
     "data": {
      "text/html": [
       "<div>\n",
       "<style scoped>\n",
       "    .dataframe tbody tr th:only-of-type {\n",
       "        vertical-align: middle;\n",
       "    }\n",
       "\n",
       "    .dataframe tbody tr th {\n",
       "        vertical-align: top;\n",
       "    }\n",
       "\n",
       "    .dataframe thead th {\n",
       "        text-align: right;\n",
       "    }\n",
       "</style>\n",
       "<table border=\"1\" class=\"dataframe\">\n",
       "  <thead>\n",
       "    <tr style=\"text-align: right;\">\n",
       "      <th></th>\n",
       "      <th>player_id</th>\n",
       "      <th>date</th>\n",
       "      <th>market_value_in_eur</th>\n",
       "      <th>current_club_id</th>\n",
       "      <th>player_club_domestic_competition_id</th>\n",
       "    </tr>\n",
       "  </thead>\n",
       "  <tbody>\n",
       "    <tr>\n",
       "      <th>0</th>\n",
       "      <td>405973</td>\n",
       "      <td>2000-01-20</td>\n",
       "      <td>150000</td>\n",
       "      <td>3057</td>\n",
       "      <td>BE1</td>\n",
       "    </tr>\n",
       "    <tr>\n",
       "      <th>1</th>\n",
       "      <td>342216</td>\n",
       "      <td>2001-07-20</td>\n",
       "      <td>100000</td>\n",
       "      <td>1241</td>\n",
       "      <td>SC1</td>\n",
       "    </tr>\n",
       "    <tr>\n",
       "      <th>2</th>\n",
       "      <td>3132</td>\n",
       "      <td>2003-12-09</td>\n",
       "      <td>400000</td>\n",
       "      <td>126</td>\n",
       "      <td>TR1</td>\n",
       "    </tr>\n",
       "    <tr>\n",
       "      <th>3</th>\n",
       "      <td>6893</td>\n",
       "      <td>2003-12-15</td>\n",
       "      <td>900000</td>\n",
       "      <td>984</td>\n",
       "      <td>GB1</td>\n",
       "    </tr>\n",
       "    <tr>\n",
       "      <th>4</th>\n",
       "      <td>10</td>\n",
       "      <td>2004-10-04</td>\n",
       "      <td>7000000</td>\n",
       "      <td>398</td>\n",
       "      <td>IT1</td>\n",
       "    </tr>\n",
       "  </tbody>\n",
       "</table>\n",
       "</div>"
      ],
      "text/plain": [
       "   player_id        date  market_value_in_eur  current_club_id  \\\n",
       "0     405973  2000-01-20               150000             3057   \n",
       "1     342216  2001-07-20               100000             1241   \n",
       "2       3132  2003-12-09               400000              126   \n",
       "3       6893  2003-12-15               900000              984   \n",
       "4         10  2004-10-04              7000000              398   \n",
       "\n",
       "  player_club_domestic_competition_id  \n",
       "0                                 BE1  \n",
       "1                                 SC1  \n",
       "2                                 TR1  \n",
       "3                                 GB1  \n",
       "4                                 IT1  "
      ]
     },
     "execution_count": 2,
     "metadata": {},
     "output_type": "execute_result"
    }
   ],
   "source": [
    "import pandas as pd\n",
    "player_valuations_df = pd.read_csv('../data/raw/player_valuations.csv')\n",
    "player_valuations_df.head()"
   ]
  },
  {
   "cell_type": "code",
   "execution_count": 3,
   "id": "bbbdb0be",
   "metadata": {},
   "outputs": [
    {
     "name": "stdout",
     "output_type": "stream",
     "text": [
      "<class 'pandas.core.frame.DataFrame'>\n",
      "RangeIndex: 496606 entries, 0 to 496605\n",
      "Data columns (total 5 columns):\n",
      " #   Column                               Non-Null Count   Dtype \n",
      "---  ------                               --------------   ----- \n",
      " 0   player_id                            496606 non-null  int64 \n",
      " 1   date                                 496606 non-null  object\n",
      " 2   market_value_in_eur                  496606 non-null  int64 \n",
      " 3   current_club_id                      496606 non-null  int64 \n",
      " 4   player_club_domestic_competition_id  496606 non-null  object\n",
      "dtypes: int64(3), object(2)\n",
      "memory usage: 18.9+ MB\n"
     ]
    }
   ],
   "source": [
    "player_valuations_df.info()"
   ]
  },
  {
   "cell_type": "code",
   "execution_count": 4,
   "id": "dbdaed90",
   "metadata": {},
   "outputs": [
    {
     "data": {
      "text/html": [
       "<div>\n",
       "<style scoped>\n",
       "    .dataframe tbody tr th:only-of-type {\n",
       "        vertical-align: middle;\n",
       "    }\n",
       "\n",
       "    .dataframe tbody tr th {\n",
       "        vertical-align: top;\n",
       "    }\n",
       "\n",
       "    .dataframe thead th {\n",
       "        text-align: right;\n",
       "    }\n",
       "</style>\n",
       "<table border=\"1\" class=\"dataframe\">\n",
       "  <thead>\n",
       "    <tr style=\"text-align: right;\">\n",
       "      <th></th>\n",
       "      <th>player_id</th>\n",
       "      <th>market_value_in_eur</th>\n",
       "      <th>current_club_id</th>\n",
       "    </tr>\n",
       "  </thead>\n",
       "  <tbody>\n",
       "    <tr>\n",
       "      <th>count</th>\n",
       "      <td>496606.000</td>\n",
       "      <td>4.966060e+05</td>\n",
       "      <td>496606.000</td>\n",
       "    </tr>\n",
       "    <tr>\n",
       "      <th>mean</th>\n",
       "      <td>224411.570</td>\n",
       "      <td>2.471145e+06</td>\n",
       "      <td>4428.745</td>\n",
       "    </tr>\n",
       "    <tr>\n",
       "      <th>std</th>\n",
       "      <td>207007.253</td>\n",
       "      <td>6.983759e+06</td>\n",
       "      <td>10940.783</td>\n",
       "    </tr>\n",
       "    <tr>\n",
       "      <th>min</th>\n",
       "      <td>10.000</td>\n",
       "      <td>0.000000e+00</td>\n",
       "      <td>3.000</td>\n",
       "    </tr>\n",
       "    <tr>\n",
       "      <th>25%</th>\n",
       "      <td>58957.000</td>\n",
       "      <td>2.000000e+05</td>\n",
       "      <td>369.000</td>\n",
       "    </tr>\n",
       "    <tr>\n",
       "      <th>50%</th>\n",
       "      <td>164902.000</td>\n",
       "      <td>5.000000e+05</td>\n",
       "      <td>1025.000</td>\n",
       "    </tr>\n",
       "    <tr>\n",
       "      <th>75%</th>\n",
       "      <td>334042.000</td>\n",
       "      <td>1.700000e+06</td>\n",
       "      <td>2995.000</td>\n",
       "    </tr>\n",
       "    <tr>\n",
       "      <th>max</th>\n",
       "      <td>1310513.000</td>\n",
       "      <td>2.000000e+08</td>\n",
       "      <td>110302.000</td>\n",
       "    </tr>\n",
       "  </tbody>\n",
       "</table>\n",
       "</div>"
      ],
      "text/plain": [
       "         player_id  market_value_in_eur  current_club_id\n",
       "count   496606.000         4.966060e+05       496606.000\n",
       "mean    224411.570         2.471145e+06         4428.745\n",
       "std     207007.253         6.983759e+06        10940.783\n",
       "min         10.000         0.000000e+00            3.000\n",
       "25%      58957.000         2.000000e+05          369.000\n",
       "50%     164902.000         5.000000e+05         1025.000\n",
       "75%     334042.000         1.700000e+06         2995.000\n",
       "max    1310513.000         2.000000e+08       110302.000"
      ]
     },
     "execution_count": 4,
     "metadata": {},
     "output_type": "execute_result"
    }
   ],
   "source": [
    "player_valuations_df.describe().round(3)"
   ]
  },
  {
   "cell_type": "code",
   "execution_count": 2,
   "id": "216673a4",
   "metadata": {},
   "outputs": [
    {
     "data": {
      "text/plain": [
       "player_id                              0\n",
       "date                                   0\n",
       "market_value_in_eur                    0\n",
       "current_club_id                        0\n",
       "player_club_domestic_competition_id    0\n",
       "dtype: int64"
      ]
     },
     "execution_count": 2,
     "metadata": {},
     "output_type": "execute_result"
    }
   ],
   "source": [
    "player_valuations_df.isnull().sum()"
   ]
  },
  {
   "cell_type": "code",
   "execution_count": 3,
   "id": "68f30b89",
   "metadata": {},
   "outputs": [
    {
     "data": {
      "text/plain": [
       "np.int64(0)"
      ]
     },
     "execution_count": 3,
     "metadata": {},
     "output_type": "execute_result"
    }
   ],
   "source": [
    "player_valuations_df.duplicated().sum()"
   ]
  }
 ],
 "metadata": {
  "kernelspec": {
   "display_name": ".venv",
   "language": "python",
   "name": "python3"
  },
  "language_info": {
   "codemirror_mode": {
    "name": "ipython",
    "version": 3
   },
   "file_extension": ".py",
   "mimetype": "text/x-python",
   "name": "python",
   "nbconvert_exporter": "python",
   "pygments_lexer": "ipython3",
   "version": "3.13.2"
  }
 },
 "nbformat": 4,
 "nbformat_minor": 5
}

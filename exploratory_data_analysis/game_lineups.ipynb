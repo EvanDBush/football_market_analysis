{
 "cells": [
  {
   "cell_type": "markdown",
   "id": "a158cde9",
   "metadata": {},
   "source": [
    "Game Lineups Table\n",
    "\n",
    "Summary:\n",
    "\n",
    "This table contains 2,191,911 rows of lineup data tracking the starting lineup and substitutions for games."
   ]
  },
  {
   "cell_type": "markdown",
   "id": "b636b075",
   "metadata": {},
   "source": [
    "Insights:\n",
    "\n",
    "This table could be useful in tracking players minutes or calculating values grouped by starting or substitutions. For example it might be useful to calculate the value of the average starting lineups versus the bench players."
   ]
  },
  {
   "cell_type": "markdown",
   "id": "3b2189a8",
   "metadata": {},
   "source": [
    "Cleaning Tasks:\n",
    "\n",
    "handle 3 nulls in position column\n",
    "convert date column dtype to datetime"
   ]
  },
  {
   "cell_type": "code",
   "execution_count": 3,
   "id": "c24cde24",
   "metadata": {},
   "outputs": [
    {
     "data": {
      "text/html": [
       "<div>\n",
       "<style scoped>\n",
       "    .dataframe tbody tr th:only-of-type {\n",
       "        vertical-align: middle;\n",
       "    }\n",
       "\n",
       "    .dataframe tbody tr th {\n",
       "        vertical-align: top;\n",
       "    }\n",
       "\n",
       "    .dataframe thead th {\n",
       "        text-align: right;\n",
       "    }\n",
       "</style>\n",
       "<table border=\"1\" class=\"dataframe\">\n",
       "  <thead>\n",
       "    <tr style=\"text-align: right;\">\n",
       "      <th></th>\n",
       "      <th>game_lineups_id</th>\n",
       "      <th>date</th>\n",
       "      <th>game_id</th>\n",
       "      <th>player_id</th>\n",
       "      <th>club_id</th>\n",
       "      <th>player_name</th>\n",
       "      <th>type</th>\n",
       "      <th>position</th>\n",
       "      <th>number</th>\n",
       "      <th>team_captain</th>\n",
       "    </tr>\n",
       "  </thead>\n",
       "  <tbody>\n",
       "    <tr>\n",
       "      <th>0</th>\n",
       "      <td>b2dbe01c3656b06c8e23e9de714e26bb</td>\n",
       "      <td>2013-07-27</td>\n",
       "      <td>2317258</td>\n",
       "      <td>1443</td>\n",
       "      <td>610</td>\n",
       "      <td>Christian Poulsen</td>\n",
       "      <td>substitutes</td>\n",
       "      <td>Defensive Midfield</td>\n",
       "      <td>5</td>\n",
       "      <td>0</td>\n",
       "    </tr>\n",
       "    <tr>\n",
       "      <th>1</th>\n",
       "      <td>b50a3ec6d52fd1490aab42042ac4f738</td>\n",
       "      <td>2013-07-27</td>\n",
       "      <td>2317258</td>\n",
       "      <td>5017</td>\n",
       "      <td>610</td>\n",
       "      <td>Niklas Moisander</td>\n",
       "      <td>starting_lineup</td>\n",
       "      <td>Centre-Back</td>\n",
       "      <td>4</td>\n",
       "      <td>0</td>\n",
       "    </tr>\n",
       "    <tr>\n",
       "      <th>2</th>\n",
       "      <td>7d890e6d0ff8af84b065839966a0ec81</td>\n",
       "      <td>2013-07-27</td>\n",
       "      <td>2317258</td>\n",
       "      <td>9602</td>\n",
       "      <td>1090</td>\n",
       "      <td>Maarten Martens</td>\n",
       "      <td>substitutes</td>\n",
       "      <td>Left Winger</td>\n",
       "      <td>11</td>\n",
       "      <td>0</td>\n",
       "    </tr>\n",
       "    <tr>\n",
       "      <th>3</th>\n",
       "      <td>8c355268678b9bbc7084221b1f0fde36</td>\n",
       "      <td>2013-07-27</td>\n",
       "      <td>2317258</td>\n",
       "      <td>12282</td>\n",
       "      <td>610</td>\n",
       "      <td>Daley Blind</td>\n",
       "      <td>starting_lineup</td>\n",
       "      <td>Left-Back</td>\n",
       "      <td>17</td>\n",
       "      <td>0</td>\n",
       "    </tr>\n",
       "    <tr>\n",
       "      <th>4</th>\n",
       "      <td>76193074d549e5fdce4cdcbba0d66247</td>\n",
       "      <td>2013-07-27</td>\n",
       "      <td>2317258</td>\n",
       "      <td>25427</td>\n",
       "      <td>1090</td>\n",
       "      <td>Roy Beerens</td>\n",
       "      <td>starting_lineup</td>\n",
       "      <td>Right Winger</td>\n",
       "      <td>23</td>\n",
       "      <td>0</td>\n",
       "    </tr>\n",
       "  </tbody>\n",
       "</table>\n",
       "</div>"
      ],
      "text/plain": [
       "                    game_lineups_id        date  game_id  player_id  club_id  \\\n",
       "0  b2dbe01c3656b06c8e23e9de714e26bb  2013-07-27  2317258       1443      610   \n",
       "1  b50a3ec6d52fd1490aab42042ac4f738  2013-07-27  2317258       5017      610   \n",
       "2  7d890e6d0ff8af84b065839966a0ec81  2013-07-27  2317258       9602     1090   \n",
       "3  8c355268678b9bbc7084221b1f0fde36  2013-07-27  2317258      12282      610   \n",
       "4  76193074d549e5fdce4cdcbba0d66247  2013-07-27  2317258      25427     1090   \n",
       "\n",
       "         player_name             type            position number  team_captain  \n",
       "0  Christian Poulsen      substitutes  Defensive Midfield      5             0  \n",
       "1   Niklas Moisander  starting_lineup         Centre-Back      4             0  \n",
       "2    Maarten Martens      substitutes         Left Winger     11             0  \n",
       "3        Daley Blind  starting_lineup           Left-Back     17             0  \n",
       "4        Roy Beerens  starting_lineup        Right Winger     23             0  "
      ]
     },
     "execution_count": 3,
     "metadata": {},
     "output_type": "execute_result"
    }
   ],
   "source": [
    "import pandas as pd \n",
    "game_lineups_df = pd.read_csv('../data/raw/game_lineups.csv')\n",
    "game_lineups_df.head()"
   ]
  },
  {
   "cell_type": "code",
   "execution_count": 3,
   "id": "2f52f435",
   "metadata": {},
   "outputs": [
    {
     "name": "stdout",
     "output_type": "stream",
     "text": [
      "<class 'pandas.core.frame.DataFrame'>\n",
      "RangeIndex: 2191911 entries, 0 to 2191910\n",
      "Data columns (total 10 columns):\n",
      " #   Column           Dtype \n",
      "---  ------           ----- \n",
      " 0   game_lineups_id  object\n",
      " 1   date             object\n",
      " 2   game_id          int64 \n",
      " 3   player_id        int64 \n",
      " 4   club_id          int64 \n",
      " 5   player_name      object\n",
      " 6   type             object\n",
      " 7   position         object\n",
      " 8   number           object\n",
      " 9   team_captain     int64 \n",
      "dtypes: int64(4), object(6)\n",
      "memory usage: 167.2+ MB\n"
     ]
    }
   ],
   "source": [
    "game_lineups_df.info()"
   ]
  },
  {
   "cell_type": "code",
   "execution_count": 4,
   "id": "44a84d49",
   "metadata": {},
   "outputs": [
    {
     "data": {
      "text/html": [
       "<div>\n",
       "<style scoped>\n",
       "    .dataframe tbody tr th:only-of-type {\n",
       "        vertical-align: middle;\n",
       "    }\n",
       "\n",
       "    .dataframe tbody tr th {\n",
       "        vertical-align: top;\n",
       "    }\n",
       "\n",
       "    .dataframe thead th {\n",
       "        text-align: right;\n",
       "    }\n",
       "</style>\n",
       "<table border=\"1\" class=\"dataframe\">\n",
       "  <thead>\n",
       "    <tr style=\"text-align: right;\">\n",
       "      <th></th>\n",
       "      <th>game_id</th>\n",
       "      <th>player_id</th>\n",
       "      <th>club_id</th>\n",
       "      <th>team_captain</th>\n",
       "    </tr>\n",
       "  </thead>\n",
       "  <tbody>\n",
       "    <tr>\n",
       "      <th>count</th>\n",
       "      <td>2191911.000</td>\n",
       "      <td>2191911.000</td>\n",
       "      <td>2191911.00</td>\n",
       "      <td>2191911.000</td>\n",
       "    </tr>\n",
       "    <tr>\n",
       "      <th>mean</th>\n",
       "      <td>3079740.596</td>\n",
       "      <td>213736.305</td>\n",
       "      <td>4394.99</td>\n",
       "      <td>0.047</td>\n",
       "    </tr>\n",
       "    <tr>\n",
       "      <th>std</th>\n",
       "      <td>511107.198</td>\n",
       "      <td>188289.510</td>\n",
       "      <td>10173.59</td>\n",
       "      <td>0.212</td>\n",
       "    </tr>\n",
       "    <tr>\n",
       "      <th>min</th>\n",
       "      <td>2317258.000</td>\n",
       "      <td>10.000</td>\n",
       "      <td>1.00</td>\n",
       "      <td>0.000</td>\n",
       "    </tr>\n",
       "    <tr>\n",
       "      <th>25%</th>\n",
       "      <td>2611307.000</td>\n",
       "      <td>62920.000</td>\n",
       "      <td>339.00</td>\n",
       "      <td>0.000</td>\n",
       "    </tr>\n",
       "    <tr>\n",
       "      <th>50%</th>\n",
       "      <td>3063686.000</td>\n",
       "      <td>163489.000</td>\n",
       "      <td>985.00</td>\n",
       "      <td>0.000</td>\n",
       "    </tr>\n",
       "    <tr>\n",
       "      <th>75%</th>\n",
       "      <td>3484182.000</td>\n",
       "      <td>312473.000</td>\n",
       "      <td>3000.00</td>\n",
       "      <td>0.000</td>\n",
       "    </tr>\n",
       "    <tr>\n",
       "      <th>max</th>\n",
       "      <td>4300789.000</td>\n",
       "      <td>1244435.000</td>\n",
       "      <td>102251.00</td>\n",
       "      <td>1.000</td>\n",
       "    </tr>\n",
       "  </tbody>\n",
       "</table>\n",
       "</div>"
      ],
      "text/plain": [
       "           game_id    player_id     club_id  team_captain\n",
       "count  2191911.000  2191911.000  2191911.00   2191911.000\n",
       "mean   3079740.596   213736.305     4394.99         0.047\n",
       "std     511107.198   188289.510    10173.59         0.212\n",
       "min    2317258.000       10.000        1.00         0.000\n",
       "25%    2611307.000    62920.000      339.00         0.000\n",
       "50%    3063686.000   163489.000      985.00         0.000\n",
       "75%    3484182.000   312473.000     3000.00         0.000\n",
       "max    4300789.000  1244435.000   102251.00         1.000"
      ]
     },
     "execution_count": 4,
     "metadata": {},
     "output_type": "execute_result"
    }
   ],
   "source": [
    "game_lineups_df.describe().round(3)"
   ]
  },
  {
   "cell_type": "code",
   "execution_count": 5,
   "id": "486b56a3",
   "metadata": {},
   "outputs": [
    {
     "data": {
      "text/plain": [
       "game_lineups_id    0\n",
       "date               0\n",
       "game_id            0\n",
       "player_id          0\n",
       "club_id            0\n",
       "player_name        0\n",
       "type               0\n",
       "position           3\n",
       "number             0\n",
       "team_captain       0\n",
       "dtype: int64"
      ]
     },
     "execution_count": 5,
     "metadata": {},
     "output_type": "execute_result"
    }
   ],
   "source": [
    "game_lineups_df.isnull().sum()"
   ]
  },
  {
   "cell_type": "code",
   "execution_count": 6,
   "id": "fe9206cc",
   "metadata": {},
   "outputs": [
    {
     "data": {
      "text/plain": [
       "np.int64(0)"
      ]
     },
     "execution_count": 6,
     "metadata": {},
     "output_type": "execute_result"
    }
   ],
   "source": [
    "game_lineups_df.duplicated().sum()"
   ]
  },
  {
   "cell_type": "code",
   "execution_count": 4,
   "id": "720098ad",
   "metadata": {},
   "outputs": [
    {
     "data": {
      "text/plain": [
       "array(['substitutes', 'starting_lineup'], dtype=object)"
      ]
     },
     "execution_count": 4,
     "metadata": {},
     "output_type": "execute_result"
    }
   ],
   "source": [
    "game_lineups_df.type.unique()"
   ]
  },
  {
   "cell_type": "code",
   "execution_count": 5,
   "id": "fb2286ad",
   "metadata": {},
   "outputs": [
    {
     "data": {
      "text/plain": [
       "array(['Defensive Midfield', 'Centre-Back', 'Left Winger', 'Left-Back',\n",
       "       'Right Winger', 'Goalkeeper', 'Attacking Midfield',\n",
       "       'Centre-Forward', 'Central Midfield', 'Right-Back',\n",
       "       'Right Midfield', 'Left Midfield', 'Second Striker', 'Defender',\n",
       "       'midfield', 'Attack', 'Sweeper', nan], dtype=object)"
      ]
     },
     "execution_count": 5,
     "metadata": {},
     "output_type": "execute_result"
    }
   ],
   "source": [
    "game_lineups_df.position.unique()"
   ]
  },
  {
   "cell_type": "code",
   "execution_count": 6,
   "id": "c7ce62dc",
   "metadata": {},
   "outputs": [
    {
     "data": {
      "text/plain": [
       "array(['5', '4', '11', '17', '23', '29', '1', '20', '12', '16', '3', '10',\n",
       "       '9', '8', '15', '27', '7', '24', '40', '25', '19', '2', '26', '28',\n",
       "       '22', '21', '31', '39', '13', '14', '6', '-', '30', '18', '37',\n",
       "       '34', '38', '33', '32', '35', '58', '36', '41', '44', '50', '42',\n",
       "       '99', '88', '80', '49', '51', '72', '84', '89', '55', '70', '77',\n",
       "       '73', '45', '87', '92', '64', '91', '90', '47', '76', '68', '71',\n",
       "       '61', '75', '78', '95', '85', '69', '93', '46', '59', '83', '66',\n",
       "       '56', '98', '62', '48', '57', '82', '67', '43', '63', '79', '54',\n",
       "       '53', '94', '52', '60', '65', '81', '74', '97', '96', '86', '880',\n",
       "       '189', '203', '\\n                  16\\n                ',\n",
       "       '\\n                  1\\n                ',\n",
       "       '\\n                  10\\n                ',\n",
       "       '\\n                  14\\n                ',\n",
       "       '\\n                  15\\n                ',\n",
       "       '\\n                  22\\n                ',\n",
       "       '\\n                  9\\n                ',\n",
       "       '\\n                  2\\n                ',\n",
       "       '\\n                  45\\n                ',\n",
       "       '\\n                  8\\n                ',\n",
       "       '\\n                  31\\n                ',\n",
       "       '\\n                  50\\n                ',\n",
       "       '\\n                  4\\n                ',\n",
       "       '\\n                  5\\n                ',\n",
       "       '\\n                  73\\n                ',\n",
       "       '\\n                  58\\n                ',\n",
       "       '\\n                  24\\n                ',\n",
       "       '\\n                  29\\n                ',\n",
       "       '\\n                  7\\n                ',\n",
       "       '\\n                  55\\n                ',\n",
       "       '\\n                  37\\n                ',\n",
       "       '\\n                  13\\n                ',\n",
       "       '\\n                  28\\n                ',\n",
       "       '\\n                  11\\n                ',\n",
       "       '\\n                  3\\n                ',\n",
       "       '\\n                  20\\n                ',\n",
       "       '\\n                  41\\n                ',\n",
       "       '\\n                  35\\n                ',\n",
       "       '\\n                  33\\n                ',\n",
       "       '\\n                  17\\n                ',\n",
       "       '\\n                  30\\n                ',\n",
       "       '\\n                  6\\n                ',\n",
       "       '\\n                  25\\n                ',\n",
       "       '\\n                  19\\n                ',\n",
       "       '\\n                  21\\n                ',\n",
       "       '\\n                  23\\n                ',\n",
       "       '\\n                  90\\n                ',\n",
       "       '\\n                  26\\n                ',\n",
       "       '\\n                  77\\n                ',\n",
       "       '\\n                  18\\n                ',\n",
       "       '\\n                  27\\n                ',\n",
       "       '\\n                  38\\n                ',\n",
       "       '\\n                  59\\n                ',\n",
       "       '\\n                  40\\n                ',\n",
       "       '\\n                  36\\n                ',\n",
       "       '\\n                  39\\n                ',\n",
       "       '\\n                  47\\n                ',\n",
       "       '\\n                  32\\n                ',\n",
       "       '\\n                  12\\n                ',\n",
       "       '\\n                  42\\n                ',\n",
       "       '\\n                  43\\n                ',\n",
       "       '\\n                  53\\n                ',\n",
       "       '\\n                  99\\n                ',\n",
       "       '\\n                  44\\n                ',\n",
       "       '\\n                  66\\n                ',\n",
       "       '\\n                  52\\n                ',\n",
       "       '\\n                  88\\n                ',\n",
       "       '\\n                  80\\n                ',\n",
       "       '\\n                  34\\n                ',\n",
       "       '\\n                  94\\n                ',\n",
       "       '\\n                  95\\n                ',\n",
       "       '\\n                  93\\n                ',\n",
       "       '\\n                  98\\n                ',\n",
       "       '\\n                  96\\n                ',\n",
       "       '\\n                  71\\n                ',\n",
       "       '\\n                  48\\n                ',\n",
       "       '\\n                  54\\n                ',\n",
       "       '\\n                  56\\n                ',\n",
       "       '\\n                  46\\n                ',\n",
       "       '\\n                  67\\n                ',\n",
       "       '\\n                  72\\n                ',\n",
       "       '\\n                  70\\n                ',\n",
       "       '\\n                  97\\n                ',\n",
       "       '\\n                  91\\n                ',\n",
       "       '\\n                  82\\n                ',\n",
       "       '\\n                  62\\n                ',\n",
       "       '\\n                  63\\n                ',\n",
       "       '\\n                  84\\n                ',\n",
       "       '\\n                  78\\n                ',\n",
       "       '\\n                  49\\n                ',\n",
       "       '\\n                  76\\n                ',\n",
       "       '\\n                  61\\n                ',\n",
       "       '\\n                  57\\n                ',\n",
       "       '\\n                  64\\n                ',\n",
       "       '\\n                  86\\n                ',\n",
       "       '\\n                  60\\n                ',\n",
       "       '\\n                  79\\n                ',\n",
       "       '\\n                  51\\n                ',\n",
       "       '\\n                  65\\n                ',\n",
       "       '\\n                  75\\n                ',\n",
       "       '\\n                  83\\n                ',\n",
       "       '\\n                  68\\n                ',\n",
       "       '\\n                  89\\n                ',\n",
       "       '\\n                  81\\n                ',\n",
       "       '\\n                  87\\n                ',\n",
       "       '\\n                  85\\n                ',\n",
       "       '\\n                  69\\n                ',\n",
       "       '\\n                  92\\n                ',\n",
       "       '\\n                  74\\n                ',\n",
       "       '\\n                  -\\n                '], dtype=object)"
      ]
     },
     "execution_count": 6,
     "metadata": {},
     "output_type": "execute_result"
    }
   ],
   "source": [
    "game_lineups_df.number.unique()"
   ]
  }
 ],
 "metadata": {
  "kernelspec": {
   "display_name": ".venv",
   "language": "python",
   "name": "python3"
  },
  "language_info": {
   "codemirror_mode": {
    "name": "ipython",
    "version": 3
   },
   "file_extension": ".py",
   "mimetype": "text/x-python",
   "name": "python",
   "nbconvert_exporter": "python",
   "pygments_lexer": "ipython3",
   "version": "3.13.2"
  }
 },
 "nbformat": 4,
 "nbformat_minor": 5
}

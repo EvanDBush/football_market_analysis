{
 "cells": [
  {
   "cell_type": "code",
   "execution_count": 1,
   "id": "37315c35",
   "metadata": {},
   "outputs": [
    {
     "data": {
      "text/html": [
       "<div>\n",
       "<style scoped>\n",
       "    .dataframe tbody tr th:only-of-type {\n",
       "        vertical-align: middle;\n",
       "    }\n",
       "\n",
       "    .dataframe tbody tr th {\n",
       "        vertical-align: top;\n",
       "    }\n",
       "\n",
       "    .dataframe thead th {\n",
       "        text-align: right;\n",
       "    }\n",
       "</style>\n",
       "<table border=\"1\" class=\"dataframe\">\n",
       "  <thead>\n",
       "    <tr style=\"text-align: right;\">\n",
       "      <th></th>\n",
       "      <th>competition_id</th>\n",
       "      <th>competition_code</th>\n",
       "      <th>name</th>\n",
       "      <th>sub_type</th>\n",
       "      <th>type</th>\n",
       "      <th>country_id</th>\n",
       "      <th>country_name</th>\n",
       "      <th>domestic_league_code</th>\n",
       "      <th>confederation</th>\n",
       "      <th>url</th>\n",
       "      <th>is_major_national_league</th>\n",
       "    </tr>\n",
       "  </thead>\n",
       "  <tbody>\n",
       "    <tr>\n",
       "      <th>0</th>\n",
       "      <td>CIT</td>\n",
       "      <td>italy-cup</td>\n",
       "      <td>italy-cup</td>\n",
       "      <td>domestic_cup</td>\n",
       "      <td>domestic_cup</td>\n",
       "      <td>75</td>\n",
       "      <td>Italy</td>\n",
       "      <td>IT1</td>\n",
       "      <td>europa</td>\n",
       "      <td>https://www.transfermarkt.co.uk/italy-cup/star...</td>\n",
       "      <td>False</td>\n",
       "    </tr>\n",
       "    <tr>\n",
       "      <th>1</th>\n",
       "      <td>NLSC</td>\n",
       "      <td>johan-cruijff-schaal</td>\n",
       "      <td>johan-cruijff-schaal</td>\n",
       "      <td>domestic_super_cup</td>\n",
       "      <td>other</td>\n",
       "      <td>122</td>\n",
       "      <td>Netherlands</td>\n",
       "      <td>NL1</td>\n",
       "      <td>europa</td>\n",
       "      <td>https://www.transfermarkt.co.uk/johan-cruijff-...</td>\n",
       "      <td>False</td>\n",
       "    </tr>\n",
       "    <tr>\n",
       "      <th>2</th>\n",
       "      <td>GRP</td>\n",
       "      <td>kypello-elladas</td>\n",
       "      <td>kypello-elladas</td>\n",
       "      <td>domestic_cup</td>\n",
       "      <td>domestic_cup</td>\n",
       "      <td>56</td>\n",
       "      <td>Greece</td>\n",
       "      <td>GR1</td>\n",
       "      <td>europa</td>\n",
       "      <td>https://www.transfermarkt.co.uk/kypello-ellada...</td>\n",
       "      <td>False</td>\n",
       "    </tr>\n",
       "    <tr>\n",
       "      <th>3</th>\n",
       "      <td>POSU</td>\n",
       "      <td>supertaca-candido-de-oliveira</td>\n",
       "      <td>supertaca-candido-de-oliveira</td>\n",
       "      <td>domestic_super_cup</td>\n",
       "      <td>other</td>\n",
       "      <td>136</td>\n",
       "      <td>Portugal</td>\n",
       "      <td>PO1</td>\n",
       "      <td>europa</td>\n",
       "      <td>https://www.transfermarkt.co.uk/supertaca-cand...</td>\n",
       "      <td>False</td>\n",
       "    </tr>\n",
       "    <tr>\n",
       "      <th>4</th>\n",
       "      <td>RUSS</td>\n",
       "      <td>russian-super-cup</td>\n",
       "      <td>russian-super-cup</td>\n",
       "      <td>domestic_super_cup</td>\n",
       "      <td>other</td>\n",
       "      <td>141</td>\n",
       "      <td>Russia</td>\n",
       "      <td>RU1</td>\n",
       "      <td>europa</td>\n",
       "      <td>https://www.transfermarkt.co.uk/russian-super-...</td>\n",
       "      <td>False</td>\n",
       "    </tr>\n",
       "  </tbody>\n",
       "</table>\n",
       "</div>"
      ],
      "text/plain": [
       "  competition_id               competition_code  \\\n",
       "0            CIT                      italy-cup   \n",
       "1           NLSC           johan-cruijff-schaal   \n",
       "2            GRP                kypello-elladas   \n",
       "3           POSU  supertaca-candido-de-oliveira   \n",
       "4           RUSS              russian-super-cup   \n",
       "\n",
       "                            name            sub_type          type  \\\n",
       "0                      italy-cup        domestic_cup  domestic_cup   \n",
       "1           johan-cruijff-schaal  domestic_super_cup         other   \n",
       "2                kypello-elladas        domestic_cup  domestic_cup   \n",
       "3  supertaca-candido-de-oliveira  domestic_super_cup         other   \n",
       "4              russian-super-cup  domestic_super_cup         other   \n",
       "\n",
       "   country_id country_name domestic_league_code confederation  \\\n",
       "0          75        Italy                  IT1        europa   \n",
       "1         122  Netherlands                  NL1        europa   \n",
       "2          56       Greece                  GR1        europa   \n",
       "3         136     Portugal                  PO1        europa   \n",
       "4         141       Russia                  RU1        europa   \n",
       "\n",
       "                                                 url  is_major_national_league  \n",
       "0  https://www.transfermarkt.co.uk/italy-cup/star...                     False  \n",
       "1  https://www.transfermarkt.co.uk/johan-cruijff-...                     False  \n",
       "2  https://www.transfermarkt.co.uk/kypello-ellada...                     False  \n",
       "3  https://www.transfermarkt.co.uk/supertaca-cand...                     False  \n",
       "4  https://www.transfermarkt.co.uk/russian-super-...                     False  "
      ]
     },
     "execution_count": 1,
     "metadata": {},
     "output_type": "execute_result"
    }
   ],
   "source": [
    "import pandas as pd\n",
    "competitions_df = pd.read_csv('../data/raw/competitions.csv')\n",
    "competitions_df.head(5)"
   ]
  },
  {
   "cell_type": "code",
   "execution_count": 2,
   "id": "2835d06d",
   "metadata": {},
   "outputs": [
    {
     "name": "stdout",
     "output_type": "stream",
     "text": [
      "<class 'pandas.core.frame.DataFrame'>\n",
      "RangeIndex: 44 entries, 0 to 43\n",
      "Data columns (total 11 columns):\n",
      " #   Column                    Non-Null Count  Dtype \n",
      "---  ------                    --------------  ----- \n",
      " 0   competition_id            44 non-null     object\n",
      " 1   competition_code          44 non-null     object\n",
      " 2   name                      44 non-null     object\n",
      " 3   sub_type                  44 non-null     object\n",
      " 4   type                      44 non-null     object\n",
      " 5   country_id                44 non-null     int64 \n",
      " 6   country_name              36 non-null     object\n",
      " 7   domestic_league_code      36 non-null     object\n",
      " 8   confederation             44 non-null     object\n",
      " 9   url                       44 non-null     object\n",
      " 10  is_major_national_league  44 non-null     bool  \n",
      "dtypes: bool(1), int64(1), object(9)\n",
      "memory usage: 3.6+ KB\n"
     ]
    }
   ],
   "source": [
    "competitions_df.info()"
   ]
  },
  {
   "cell_type": "code",
   "execution_count": 3,
   "id": "acf35831",
   "metadata": {},
   "outputs": [
    {
     "data": {
      "text/html": [
       "<div>\n",
       "<style scoped>\n",
       "    .dataframe tbody tr th:only-of-type {\n",
       "        vertical-align: middle;\n",
       "    }\n",
       "\n",
       "    .dataframe tbody tr th {\n",
       "        vertical-align: top;\n",
       "    }\n",
       "\n",
       "    .dataframe thead th {\n",
       "        text-align: right;\n",
       "    }\n",
       "</style>\n",
       "<table border=\"1\" class=\"dataframe\">\n",
       "  <thead>\n",
       "    <tr style=\"text-align: right;\">\n",
       "      <th></th>\n",
       "      <th>country_id</th>\n",
       "    </tr>\n",
       "  </thead>\n",
       "  <tbody>\n",
       "    <tr>\n",
       "      <th>count</th>\n",
       "      <td>44.000</td>\n",
       "    </tr>\n",
       "    <tr>\n",
       "      <th>mean</th>\n",
       "      <td>94.864</td>\n",
       "    </tr>\n",
       "    <tr>\n",
       "      <th>std</th>\n",
       "      <td>70.519</td>\n",
       "    </tr>\n",
       "    <tr>\n",
       "      <th>min</th>\n",
       "      <td>-1.000</td>\n",
       "    </tr>\n",
       "    <tr>\n",
       "      <th>25%</th>\n",
       "      <td>39.000</td>\n",
       "    </tr>\n",
       "    <tr>\n",
       "      <th>50%</th>\n",
       "      <td>98.500</td>\n",
       "    </tr>\n",
       "    <tr>\n",
       "      <th>75%</th>\n",
       "      <td>157.000</td>\n",
       "    </tr>\n",
       "    <tr>\n",
       "      <th>max</th>\n",
       "      <td>190.000</td>\n",
       "    </tr>\n",
       "  </tbody>\n",
       "</table>\n",
       "</div>"
      ],
      "text/plain": [
       "       country_id\n",
       "count      44.000\n",
       "mean       94.864\n",
       "std        70.519\n",
       "min        -1.000\n",
       "25%        39.000\n",
       "50%        98.500\n",
       "75%       157.000\n",
       "max       190.000"
      ]
     },
     "execution_count": 3,
     "metadata": {},
     "output_type": "execute_result"
    }
   ],
   "source": [
    "competitions_df.describe().round(3)\n"
   ]
  },
  {
   "cell_type": "code",
   "execution_count": 4,
   "id": "515cd351",
   "metadata": {},
   "outputs": [
    {
     "data": {
      "text/plain": [
       "competition_id              0\n",
       "competition_code            0\n",
       "name                        0\n",
       "sub_type                    0\n",
       "type                        0\n",
       "country_id                  0\n",
       "country_name                8\n",
       "domestic_league_code        8\n",
       "confederation               0\n",
       "url                         0\n",
       "is_major_national_league    0\n",
       "dtype: int64"
      ]
     },
     "execution_count": 4,
     "metadata": {},
     "output_type": "execute_result"
    }
   ],
   "source": [
    "competitions_df.isnull().sum()"
   ]
  },
  {
   "cell_type": "code",
   "execution_count": 5,
   "id": "41c1a511",
   "metadata": {},
   "outputs": [
    {
     "data": {
      "text/plain": [
       "np.int64(0)"
      ]
     },
     "execution_count": 5,
     "metadata": {},
     "output_type": "execute_result"
    }
   ],
   "source": [
    "competitions_df.duplicated().sum()"
   ]
  }
 ],
 "metadata": {
  "kernelspec": {
   "display_name": ".venv",
   "language": "python",
   "name": "python3"
  },
  "language_info": {
   "codemirror_mode": {
    "name": "ipython",
    "version": 3
   },
   "file_extension": ".py",
   "mimetype": "text/x-python",
   "name": "python",
   "nbconvert_exporter": "python",
   "pygments_lexer": "ipython3",
   "version": "3.13.2"
  }
 },
 "nbformat": 4,
 "nbformat_minor": 5
}

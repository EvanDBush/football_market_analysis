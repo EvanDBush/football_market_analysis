{
 "cells": [
  {
   "cell_type": "markdown",
   "id": "4dfba367",
   "metadata": {},
   "source": [
    "Game Events Table\n",
    "\n",
    "Summary:\n",
    "\n",
    "    This table contains 1035043 rows of game-events of cards, goals, substitutions and shootouts. It tracks the minute the event happened and type of event with the player involved."
   ]
  },
  {
   "cell_type": "markdown",
   "id": "865e876c",
   "metadata": {},
   "source": [
    "Insights: \n",
    "\n",
    "This table tracks interesting statistics for game events. Using this table we could find detaled information on players actions in games. using the descriptions columns we could figure out details like right or left footed goals."
   ]
  },
  {
   "cell_type": "markdown",
   "id": "09a2a637",
   "metadata": {},
   "source": [
    "Cleaning Tasks:\n",
    "\n",
    "convert date to datetime dtype\n",
    "fill missing description with \"none\"\n",
    "fill missing player_in_id with 0\n",
    "fill player assist id with 0\n",
    "\n"
   ]
  },
  {
   "cell_type": "code",
   "execution_count": 3,
   "id": "e83218f5",
   "metadata": {},
   "outputs": [
    {
     "data": {
      "text/html": [
       "<div>\n",
       "<style scoped>\n",
       "    .dataframe tbody tr th:only-of-type {\n",
       "        vertical-align: middle;\n",
       "    }\n",
       "\n",
       "    .dataframe tbody tr th {\n",
       "        vertical-align: top;\n",
       "    }\n",
       "\n",
       "    .dataframe thead th {\n",
       "        text-align: right;\n",
       "    }\n",
       "</style>\n",
       "<table border=\"1\" class=\"dataframe\">\n",
       "  <thead>\n",
       "    <tr style=\"text-align: right;\">\n",
       "      <th></th>\n",
       "      <th>game_event_id</th>\n",
       "      <th>date</th>\n",
       "      <th>game_id</th>\n",
       "      <th>minute</th>\n",
       "      <th>type</th>\n",
       "      <th>club_id</th>\n",
       "      <th>player_id</th>\n",
       "      <th>description</th>\n",
       "      <th>player_in_id</th>\n",
       "      <th>player_assist_id</th>\n",
       "    </tr>\n",
       "  </thead>\n",
       "  <tbody>\n",
       "    <tr>\n",
       "      <th>0</th>\n",
       "      <td>2f41da30c471492e7d4a984951671677</td>\n",
       "      <td>2012-08-05</td>\n",
       "      <td>2211607</td>\n",
       "      <td>77</td>\n",
       "      <td>Cards</td>\n",
       "      <td>610</td>\n",
       "      <td>4425</td>\n",
       "      <td>1. Yellow card  , Mass confrontation</td>\n",
       "      <td>NaN</td>\n",
       "      <td>NaN</td>\n",
       "    </tr>\n",
       "    <tr>\n",
       "      <th>1</th>\n",
       "      <td>a72f7186d132775f234d3e2f7bc0ed5b</td>\n",
       "      <td>2012-08-05</td>\n",
       "      <td>2211607</td>\n",
       "      <td>77</td>\n",
       "      <td>Cards</td>\n",
       "      <td>383</td>\n",
       "      <td>33210</td>\n",
       "      <td>1. Yellow card  , Mass confrontation</td>\n",
       "      <td>NaN</td>\n",
       "      <td>NaN</td>\n",
       "    </tr>\n",
       "    <tr>\n",
       "      <th>2</th>\n",
       "      <td>b2d721eaed4692a5c59a92323689ef18</td>\n",
       "      <td>2012-08-05</td>\n",
       "      <td>2211607</td>\n",
       "      <td>3</td>\n",
       "      <td>Goals</td>\n",
       "      <td>383</td>\n",
       "      <td>36500</td>\n",
       "      <td>, Header, 1. Tournament Goal Assist: , Corner,...</td>\n",
       "      <td>NaN</td>\n",
       "      <td>56416.0</td>\n",
       "    </tr>\n",
       "    <tr>\n",
       "      <th>3</th>\n",
       "      <td>aef768899cedac0c9a650980219075a2</td>\n",
       "      <td>2012-08-05</td>\n",
       "      <td>2211607</td>\n",
       "      <td>53</td>\n",
       "      <td>Goals</td>\n",
       "      <td>383</td>\n",
       "      <td>36500</td>\n",
       "      <td>, Right-footed shot, 2. Tournament Goal Assist...</td>\n",
       "      <td>NaN</td>\n",
       "      <td>146258.0</td>\n",
       "    </tr>\n",
       "    <tr>\n",
       "      <th>4</th>\n",
       "      <td>5d6d9533023057b6619ecd145a038bbe</td>\n",
       "      <td>2012-08-05</td>\n",
       "      <td>2211607</td>\n",
       "      <td>74</td>\n",
       "      <td>Substitutions</td>\n",
       "      <td>383</td>\n",
       "      <td>36500</td>\n",
       "      <td>, Not reported</td>\n",
       "      <td>49499.0</td>\n",
       "      <td>NaN</td>\n",
       "    </tr>\n",
       "  </tbody>\n",
       "</table>\n",
       "</div>"
      ],
      "text/plain": [
       "                      game_event_id        date  game_id  minute  \\\n",
       "0  2f41da30c471492e7d4a984951671677  2012-08-05  2211607      77   \n",
       "1  a72f7186d132775f234d3e2f7bc0ed5b  2012-08-05  2211607      77   \n",
       "2  b2d721eaed4692a5c59a92323689ef18  2012-08-05  2211607       3   \n",
       "3  aef768899cedac0c9a650980219075a2  2012-08-05  2211607      53   \n",
       "4  5d6d9533023057b6619ecd145a038bbe  2012-08-05  2211607      74   \n",
       "\n",
       "            type  club_id  player_id  \\\n",
       "0          Cards      610       4425   \n",
       "1          Cards      383      33210   \n",
       "2          Goals      383      36500   \n",
       "3          Goals      383      36500   \n",
       "4  Substitutions      383      36500   \n",
       "\n",
       "                                         description  player_in_id  \\\n",
       "0               1. Yellow card  , Mass confrontation           NaN   \n",
       "1               1. Yellow card  , Mass confrontation           NaN   \n",
       "2  , Header, 1. Tournament Goal Assist: , Corner,...           NaN   \n",
       "3  , Right-footed shot, 2. Tournament Goal Assist...           NaN   \n",
       "4                                     , Not reported       49499.0   \n",
       "\n",
       "   player_assist_id  \n",
       "0               NaN  \n",
       "1               NaN  \n",
       "2           56416.0  \n",
       "3          146258.0  \n",
       "4               NaN  "
      ]
     },
     "execution_count": 3,
     "metadata": {},
     "output_type": "execute_result"
    }
   ],
   "source": [
    "import pandas as pd\n",
    "game_events_df = pd.read_csv('../data/raw/game_events.csv')\n",
    "game_events_df.head() "
   ]
  },
  {
   "cell_type": "code",
   "execution_count": 3,
   "id": "ea92d25e",
   "metadata": {},
   "outputs": [
    {
     "name": "stdout",
     "output_type": "stream",
     "text": [
      "<class 'pandas.core.frame.DataFrame'>\n",
      "RangeIndex: 1035043 entries, 0 to 1035042\n",
      "Data columns (total 10 columns):\n",
      " #   Column            Non-Null Count    Dtype  \n",
      "---  ------            --------------    -----  \n",
      " 0   game_event_id     1035043 non-null  object \n",
      " 1   date              1035043 non-null  object \n",
      " 2   game_id           1035043 non-null  int64  \n",
      " 3   minute            1035043 non-null  int64  \n",
      " 4   type              1035043 non-null  object \n",
      " 5   club_id           1035043 non-null  int64  \n",
      " 6   player_id         1035043 non-null  int64  \n",
      " 7   description       947716 non-null   object \n",
      " 8   player_in_id      497678 non-null   float64\n",
      " 9   player_assist_id  156759 non-null   float64\n",
      "dtypes: float64(2), int64(4), object(4)\n",
      "memory usage: 79.0+ MB\n"
     ]
    }
   ],
   "source": [
    "game_events_df.info()\n"
   ]
  },
  {
   "cell_type": "code",
   "execution_count": 5,
   "id": "05bcc008",
   "metadata": {},
   "outputs": [
    {
     "data": {
      "text/html": [
       "<div>\n",
       "<style scoped>\n",
       "    .dataframe tbody tr th:only-of-type {\n",
       "        vertical-align: middle;\n",
       "    }\n",
       "\n",
       "    .dataframe tbody tr th {\n",
       "        vertical-align: top;\n",
       "    }\n",
       "\n",
       "    .dataframe thead th {\n",
       "        text-align: right;\n",
       "    }\n",
       "</style>\n",
       "<table border=\"1\" class=\"dataframe\">\n",
       "  <thead>\n",
       "    <tr style=\"text-align: right;\">\n",
       "      <th></th>\n",
       "      <th>game_id</th>\n",
       "      <th>minute</th>\n",
       "      <th>club_id</th>\n",
       "      <th>player_id</th>\n",
       "      <th>player_in_id</th>\n",
       "      <th>player_assist_id</th>\n",
       "    </tr>\n",
       "  </thead>\n",
       "  <tbody>\n",
       "    <tr>\n",
       "      <th>count</th>\n",
       "      <td>1035043.000</td>\n",
       "      <td>1035043.000</td>\n",
       "      <td>1035043.000</td>\n",
       "      <td>1035043.000</td>\n",
       "      <td>497678.000</td>\n",
       "      <td>156759.000</td>\n",
       "    </tr>\n",
       "    <tr>\n",
       "      <th>mean</th>\n",
       "      <td>3232166.643</td>\n",
       "      <td>61.820</td>\n",
       "      <td>4956.375</td>\n",
       "      <td>234649.759</td>\n",
       "      <td>281129.135</td>\n",
       "      <td>211605.521</td>\n",
       "    </tr>\n",
       "    <tr>\n",
       "      <th>std</th>\n",
       "      <td>680074.169</td>\n",
       "      <td>23.586</td>\n",
       "      <td>11822.250</td>\n",
       "      <td>212023.869</td>\n",
       "      <td>238853.115</td>\n",
       "      <td>194396.340</td>\n",
       "    </tr>\n",
       "    <tr>\n",
       "      <th>min</th>\n",
       "      <td>2211607.000</td>\n",
       "      <td>-1.000</td>\n",
       "      <td>1.000</td>\n",
       "      <td>10.000</td>\n",
       "      <td>10.000</td>\n",
       "      <td>10.000</td>\n",
       "    </tr>\n",
       "    <tr>\n",
       "      <th>25%</th>\n",
       "      <td>2609665.500</td>\n",
       "      <td>46.000</td>\n",
       "      <td>347.000</td>\n",
       "      <td>66008.000</td>\n",
       "      <td>87162.000</td>\n",
       "      <td>59561.000</td>\n",
       "    </tr>\n",
       "    <tr>\n",
       "      <th>50%</th>\n",
       "      <td>3203637.000</td>\n",
       "      <td>67.000</td>\n",
       "      <td>987.000</td>\n",
       "      <td>175449.000</td>\n",
       "      <td>216662.000</td>\n",
       "      <td>153237.000</td>\n",
       "    </tr>\n",
       "    <tr>\n",
       "      <th>75%</th>\n",
       "      <td>3840071.000</td>\n",
       "      <td>80.000</td>\n",
       "      <td>3137.000</td>\n",
       "      <td>341092.000</td>\n",
       "      <td>400649.000</td>\n",
       "      <td>313477.000</td>\n",
       "    </tr>\n",
       "    <tr>\n",
       "      <th>max</th>\n",
       "      <td>4572898.000</td>\n",
       "      <td>120.000</td>\n",
       "      <td>122422.000</td>\n",
       "      <td>1378362.000</td>\n",
       "      <td>1390649.000</td>\n",
       "      <td>1340495.000</td>\n",
       "    </tr>\n",
       "  </tbody>\n",
       "</table>\n",
       "</div>"
      ],
      "text/plain": [
       "           game_id       minute      club_id    player_id  player_in_id  \\\n",
       "count  1035043.000  1035043.000  1035043.000  1035043.000    497678.000   \n",
       "mean   3232166.643       61.820     4956.375   234649.759    281129.135   \n",
       "std     680074.169       23.586    11822.250   212023.869    238853.115   \n",
       "min    2211607.000       -1.000        1.000       10.000        10.000   \n",
       "25%    2609665.500       46.000      347.000    66008.000     87162.000   \n",
       "50%    3203637.000       67.000      987.000   175449.000    216662.000   \n",
       "75%    3840071.000       80.000     3137.000   341092.000    400649.000   \n",
       "max    4572898.000      120.000   122422.000  1378362.000   1390649.000   \n",
       "\n",
       "       player_assist_id  \n",
       "count        156759.000  \n",
       "mean         211605.521  \n",
       "std          194396.340  \n",
       "min              10.000  \n",
       "25%           59561.000  \n",
       "50%          153237.000  \n",
       "75%          313477.000  \n",
       "max         1340495.000  "
      ]
     },
     "execution_count": 5,
     "metadata": {},
     "output_type": "execute_result"
    }
   ],
   "source": [
    "game_events_df.describe().round(3)"
   ]
  },
  {
   "cell_type": "code",
   "execution_count": 6,
   "id": "029a4076",
   "metadata": {},
   "outputs": [
    {
     "data": {
      "text/plain": [
       "game_event_id            0\n",
       "date                     0\n",
       "game_id                  0\n",
       "minute                   0\n",
       "type                     0\n",
       "club_id                  0\n",
       "player_id                0\n",
       "description          87327\n",
       "player_in_id        537365\n",
       "player_assist_id    878284\n",
       "dtype: int64"
      ]
     },
     "execution_count": 6,
     "metadata": {},
     "output_type": "execute_result"
    }
   ],
   "source": [
    "game_events_df.isnull().sum()"
   ]
  },
  {
   "cell_type": "code",
   "execution_count": 7,
   "id": "95a3628f",
   "metadata": {},
   "outputs": [
    {
     "data": {
      "text/plain": [
       "np.int64(0)"
      ]
     },
     "execution_count": 7,
     "metadata": {},
     "output_type": "execute_result"
    }
   ],
   "source": [
    "game_events_df.duplicated().sum()"
   ]
  },
  {
   "cell_type": "code",
   "execution_count": 4,
   "id": "4274ebc5",
   "metadata": {},
   "outputs": [
    {
     "data": {
      "text/plain": [
       "array(['Cards', 'Goals', 'Substitutions', 'Shootout'], dtype=object)"
      ]
     },
     "execution_count": 4,
     "metadata": {},
     "output_type": "execute_result"
    }
   ],
   "source": [
    "game_events_df.type.unique()"
   ]
  }
 ],
 "metadata": {
  "kernelspec": {
   "display_name": ".venv",
   "language": "python",
   "name": "python3"
  },
  "language_info": {
   "codemirror_mode": {
    "name": "ipython",
    "version": 3
   },
   "file_extension": ".py",
   "mimetype": "text/x-python",
   "name": "python",
   "nbconvert_exporter": "python",
   "pygments_lexer": "ipython3",
   "version": "3.13.2"
  }
 },
 "nbformat": 4,
 "nbformat_minor": 5
}

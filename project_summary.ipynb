{
 "cells": [
  {
   "cell_type": "markdown",
   "id": "7199a9e2",
   "metadata": {},
   "source": [
    "# Project Summary"
   ]
  },
  {
   "cell_type": "code",
   "execution_count": 4,
   "id": "1b281477",
   "metadata": {},
   "outputs": [],
   "source": [
    "import pandas as pd\n",
    "import seaborn as sns\n",
    "import matplotlib.pyplot as plt\n",
    "from scripts import reports, sql_queries\n",
    "\n",
    "clubs_df = pd.read_csv('./data/raw/clubs.csv')\n",
    "player_valuations_df = pd.read_csv('./data/raw/player_valuations.csv')\n"
   ]
  },
  {
   "cell_type": "markdown",
   "id": "7ff01632",
   "metadata": {},
   "source": [
    "## Notebook Contents:\n",
    "    1. [Project Summary](#project-summary)\n",
    "    2. [EDA](#eda)\n",
    "        1. [Table Inspection](#table-inspection)\n",
    "        2. [Descriptive Statistics](#descriptive-statistics)\n",
    "        3. [Column Analysis](#column-analysis)\n",
    "        4. [Correlation](#correlation)\n",
    "    3. [Data Cleaning](#data-cleaning)\n",
    "    4. [Create Database](#create-database)\n",
    "    5. [Join Tables](#join-tables)\n",
    "    6. [Validate Data](#validate-data)\n",
    "    7. [Visualize Results](#visualize-results)"
   ]
  },
  {
   "cell_type": "markdown",
   "id": "0f097a1c",
   "metadata": {},
   "source": [
    "## EDA\n",
    "\n",
    "Summary:\n",
    "\n",
    "Insights:"
   ]
  },
  {
   "cell_type": "markdown",
   "id": "1bf0c469",
   "metadata": {},
   "source": [
    "## Table Information\n",
    "Player Valuations Table Summary: This table contains 496606 entries that designate a player and their current market value. The columns are \n",
    "\n",
    "Clubs Table Summary:\n",
    "\n"
   ]
  },
  {
   "cell_type": "code",
   "execution_count": 5,
   "id": "22d98215",
   "metadata": {},
   "outputs": [
    {
     "name": "stdout",
     "output_type": "stream",
     "text": [
      "<class 'pandas.core.frame.DataFrame'>\n",
      "RangeIndex: 496606 entries, 0 to 496605\n",
      "Data columns (total 5 columns):\n",
      " #   Column                               Non-Null Count   Dtype \n",
      "---  ------                               --------------   ----- \n",
      " 0   player_id                            496606 non-null  int64 \n",
      " 1   date                                 496606 non-null  object\n",
      " 2   market_value_in_eur                  496606 non-null  int64 \n",
      " 3   current_club_id                      496606 non-null  int64 \n",
      " 4   player_club_domestic_competition_id  496606 non-null  object\n",
      "dtypes: int64(3), object(2)\n",
      "memory usage: 18.9+ MB\n"
     ]
    }
   ],
   "source": [
    "player_valuations_df.info()"
   ]
  },
  {
   "cell_type": "code",
   "execution_count": 6,
   "id": "67775982",
   "metadata": {},
   "outputs": [
    {
     "name": "stdout",
     "output_type": "stream",
     "text": [
      "<class 'pandas.core.frame.DataFrame'>\n",
      "RangeIndex: 439 entries, 0 to 438\n",
      "Data columns (total 17 columns):\n",
      " #   Column                   Non-Null Count  Dtype  \n",
      "---  ------                   --------------  -----  \n",
      " 0   club_id                  439 non-null    int64  \n",
      " 1   club_code                439 non-null    object \n",
      " 2   name                     439 non-null    object \n",
      " 3   domestic_competition_id  439 non-null    object \n",
      " 4   total_market_value       0 non-null      float64\n",
      " 5   squad_size               439 non-null    int64  \n",
      " 6   average_age              401 non-null    float64\n",
      " 7   foreigners_number        439 non-null    int64  \n",
      " 8   foreigners_percentage    390 non-null    float64\n",
      " 9   national_team_players    439 non-null    int64  \n",
      " 10  stadium_name             439 non-null    object \n",
      " 11  stadium_seats            439 non-null    int64  \n",
      " 12  net_transfer_record      439 non-null    object \n",
      " 13  coach_name               0 non-null      float64\n",
      " 14  last_season              439 non-null    int64  \n",
      " 15  filename                 439 non-null    object \n",
      " 16  url                      439 non-null    object \n",
      "dtypes: float64(4), int64(6), object(7)\n",
      "memory usage: 58.4+ KB\n"
     ]
    }
   ],
   "source": [
    "clubs_df.info()"
   ]
  },
  {
   "cell_type": "markdown",
   "id": "475ef57b",
   "metadata": {},
   "source": [
    "## Descriptive Statistics"
   ]
  },
  {
   "cell_type": "markdown",
   "id": "8c2c80d5",
   "metadata": {},
   "source": [
    "## Column Analysis"
   ]
  },
  {
   "cell_type": "markdown",
   "id": "8354c749",
   "metadata": {},
   "source": [
    "## Correlation"
   ]
  },
  {
   "cell_type": "markdown",
   "id": "f42ba060",
   "metadata": {},
   "source": [
    "## Data Cleaning\n",
    "\n",
    "Overview:\n",
    "\n",
    "Player Valuation Cleaning Tasks:\n",
    "\n",
    "Clubs Cleaning Tasks:"
   ]
  },
  {
   "cell_type": "markdown",
   "id": "fdfdf831",
   "metadata": {},
   "source": [
    "## Create Database"
   ]
  },
  {
   "cell_type": "markdown",
   "id": "3a0216b5",
   "metadata": {},
   "source": [
    "## Join Tables"
   ]
  },
  {
   "cell_type": "markdown",
   "id": "b1e7deda",
   "metadata": {},
   "source": [
    "## Validate Data"
   ]
  },
  {
   "cell_type": "markdown",
   "id": "2296edef",
   "metadata": {},
   "source": [
    "# Visualize Results"
   ]
  }
 ],
 "metadata": {
  "kernelspec": {
   "display_name": ".venv",
   "language": "python",
   "name": "python3"
  },
  "language_info": {
   "codemirror_mode": {
    "name": "ipython",
    "version": 3
   },
   "file_extension": ".py",
   "mimetype": "text/x-python",
   "name": "python",
   "nbconvert_exporter": "python",
   "pygments_lexer": "ipython3",
   "version": "3.13.2"
  }
 },
 "nbformat": 4,
 "nbformat_minor": 5
}

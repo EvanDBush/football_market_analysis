{
 "cells": [
  {
   "cell_type": "markdown",
   "id": "4fde7606",
   "metadata": {},
   "source": []
  },
  {
   "cell_type": "code",
   "execution_count": 3,
   "id": "1b281477",
   "metadata": {},
   "outputs": [
    {
     "name": "stdout",
     "output_type": "stream",
     "text": [
      "\n",
      "    The club_games table has 148052 rows and 11 columns.\n",
      "    \n",
      "    There are 93264 null values. \n",
      "    \n",
      "    There are 0 duplicates.\n",
      "    \n",
      "    The column names are: \n",
      "game_id, club_id, own_goals, own_position, own_manager_name, opponent_id, opponent_goals, opponent_position, opponent_manager_name, hosting, is_win \n",
      "        \n",
      "                                 count        mean        std        min  \\\n",
      "club_games.game_id            148052.0  3165279.50  667938.52  2211607.0   \n",
      "club_games.club_id            148034.0     5067.78   30916.23        1.0   \n",
      "club_games.own_goals          148028.0        1.47       1.41        0.0   \n",
      "club_games.own_position       103118.0        9.36       5.31        1.0   \n",
      "club_games.opponent_id        148034.0     5067.78   30916.23        1.0   \n",
      "club_games.opponent_goals     148028.0        1.47       1.41        0.0   \n",
      "club_games.opponent_position  103118.0        9.36       5.31        1.0   \n",
      "club_games.is_win             148052.0        0.39       0.49        0.0   \n",
      "\n",
      "                                    25%        50%        75%        max  \n",
      "club_games.game_id            2587784.0  3080342.5  3646236.0  4572898.0  \n",
      "club_games.club_id                354.0      989.0     3060.0  4506873.0  \n",
      "club_games.own_goals                0.0        1.0        2.0       19.0  \n",
      "club_games.own_position             5.0        9.0       14.0       21.0  \n",
      "club_games.opponent_id            354.0      989.0     3060.0  4506873.0  \n",
      "club_games.opponent_goals           0.0        1.0        2.0       19.0  \n",
      "club_games.opponent_position        5.0        9.0       14.0       21.0  \n",
      "club_games.is_win                   0.0        0.0        1.0        1.0  \n"
     ]
    }
   ],
   "source": [
    "from scripts import reports"
   ]
  }
 ],
 "metadata": {
  "kernelspec": {
   "display_name": ".venv",
   "language": "python",
   "name": "python3"
  },
  "language_info": {
   "codemirror_mode": {
    "name": "ipython",
    "version": 3
   },
   "file_extension": ".py",
   "mimetype": "text/x-python",
   "name": "python",
   "nbconvert_exporter": "python",
   "pygments_lexer": "ipython3",
   "version": "3.13.2"
  }
 },
 "nbformat": 4,
 "nbformat_minor": 5
}
